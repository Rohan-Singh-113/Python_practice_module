{
  "nbformat": 4,
  "nbformat_minor": 0,
  "metadata": {
    "colab": {
      "name": "Control.loop_practice.py",
      "provenance": [],
      "authorship_tag": "ABX9TyMRJpfOHbg7JQya5CwMADOu",
      "include_colab_link": true
    },
    "kernelspec": {
      "name": "python3",
      "display_name": "Python 3"
    },
    "language_info": {
      "name": "python"
    }
  },
  "cells": [
    {
      "cell_type": "markdown",
      "metadata": {
        "id": "view-in-github",
        "colab_type": "text"
      },
      "source": [
        "<a href=\"https://colab.research.google.com/github/Rohan-Singh-113/Python_practice_module/blob/main/Control_loop_practice_py.ipynb\" target=\"_parent\"><img src=\"https://colab.research.google.com/assets/colab-badge.svg\" alt=\"Open In Colab\"/></a>"
      ]
    },
    {
      "cell_type": "code",
      "metadata": {
        "id": "yLbYgMRegwMp"
      },
      "source": [
        "#Python Control loop Practice\n",
        "#If statements\n",
        "a = 5\n",
        "b = 7\n",
        "if a<b:\n",
        "    print(\"a is less than b\", '\\n')\n"
      ],
      "execution_count": null,
      "outputs": []
    },
    {
      "cell_type": "code",
      "metadata": {
        "id": "TCHF1GJxhRvG"
      },
      "source": [
        "#Multi-conditions\n",
        "a, b = 5, 7\n",
        "if a<b:\n",
        "    print(\"a is less than b\")\n",
        "elif b<a:\n",
        "    print(\"b is less than a\")\n",
        "else:\n",
        "    print(\"a is equal to b\")\n"
      ],
      "execution_count": null,
      "outputs": []
    },
    {
      "cell_type": "code",
      "metadata": {
        "id": "9mWeZnQKhgJP"
      },
      "source": [
        "#Nested If\n",
        "if a<=b:\n",
        "    if a<b:\n",
        "        print(\"a is less than b\")\n",
        "    else:\n",
        "        print(\"a is equal to b\")\n"
      ],
      "execution_count": null,
      "outputs": []
    },
    {
      "cell_type": "code",
      "metadata": {
        "id": "QVgXqWgWhrRu"
      },
      "source": [
        "#For loop\n",
        "numbers = [57, 45, 18, 49, 37, 21, 33, 78, 51]\n",
        "sum = 0\n",
        "for val in numbers:\n",
        "    sum = sum+val\n",
        "print(\"The sum is \", sum)\n"
      ],
      "execution_count": null,
      "outputs": []
    },
    {
      "cell_type": "code",
      "metadata": {
        "id": "EWZXwR34iER5"
      },
      "source": [
        "#For with range\n",
        "for i in range(1,11):\n",
        "    print(i+12)\n",
        "print(' ')\n"
      ],
      "execution_count": null,
      "outputs": []
    },
    {
      "cell_type": "code",
      "metadata": {
        "id": "495Qk6lOiP6I"
      },
      "source": [
        "#For with else\n",
        "student_name = 'Gyan'\n",
        "marks = {'Tina': 90, 'Juli': 55, 'Kriti': 77}\n",
        "for student in marks:\n",
        "    if student == student_name:\n",
        "        print(marks[student])\n",
        "        break\n",
        "else:\n",
        "    print('No entry with that name found.')\n",
        "print(' ')\n"
      ],
      "execution_count": null,
      "outputs": []
    },
    {
      "cell_type": "code",
      "metadata": {
        "id": "ph9bPJnaiqqE"
      },
      "source": [
        "#While loop\n",
        "numbers = [72, 21, 49, 41, 43, 27, 16, 83, 57]\n",
        "sum = i = 0\n",
        "while i<9:\n",
        "    sum+=numbers[i]\n",
        "    i=i+1\n",
        "print(\"The sum is \", sum)"
      ],
      "execution_count": null,
      "outputs": []
    }
  ]
}