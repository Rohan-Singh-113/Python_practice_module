{
  "nbformat": 4,
  "nbformat_minor": 0,
  "metadata": {
    "colab": {
      "name": "Data.type_practice.py",
      "provenance": [],
      "authorship_tag": "ABX9TyMssReChQLMA16Ycj8jGgKD",
      "include_colab_link": true
    },
    "kernelspec": {
      "name": "python3",
      "display_name": "Python 3"
    },
    "language_info": {
      "name": "python"
    }
  },
  "cells": [
    {
      "cell_type": "markdown",
      "metadata": {
        "id": "view-in-github",
        "colab_type": "text"
      },
      "source": [
        "<a href=\"https://colab.research.google.com/github/Rohan-Singh-113/Python_practice_module/blob/main/Data_type_practice_py.ipynb\" target=\"_parent\"><img src=\"https://colab.research.google.com/assets/colab-badge.svg\" alt=\"Open In Colab\"/></a>"
      ]
    },
    {
      "cell_type": "code",
      "metadata": {
        "id": "NmQqCPt7aYlQ"
      },
      "source": [
        "#Python Data Types\n",
        "a = 10\n",
        "b =\"Hello World\"  \n",
        "c = 15.8 \n",
        "print(type(a))  \n",
        "print(type(b))  \n",
        "print(type(c))\n"
      ],
      "execution_count": null,
      "outputs": []
    },
    {
      "cell_type": "code",
      "metadata": {
        "id": "gSkOKr5ca4Du"
      },
      "source": [
        "#Numbers\n",
        "a = 10  \n",
        "print(\"The type of a\", type(a))  \n",
        "  \n",
        "b = 15.8 \n",
        "print(\"The type of b\", type(b))  \n",
        "  \n",
        "c = -5+2j  \n",
        "print(\"The type of c\", type(c))  \n",
        "print(\" c is a complex number\", isinstance(1+3j,complex))\n"
      ],
      "execution_count": null,
      "outputs": []
    },
    {
      "cell_type": "code",
      "metadata": {
        "id": "vRlFKdjibILl"
      },
      "source": [
        "#Sequence\n",
        "str1 = 'Hello World'\n",
        "str2 = 'Merry Christmas'\n",
        "print (str1[0:2])            #printing first two character using slice operator    \n",
        "print (str1[4])              #printing 4th character of the string    \n",
        "print (str1*2)               #printing the string twice    \n",
        "print (str1 + str2, '\\n')    #printing the concatenation of str1 and str2\n"
      ],
      "execution_count": null,
      "outputs": []
    },
    {
      "cell_type": "code",
      "metadata": {
        "id": "FsAE4PBiba2d"
      },
      "source": [
        "#List\n",
        "list1 = ['apples', 'grapes', 'mangoes']\n",
        "print(type(list1))\n",
        "print(list1[:2])        #print first 2 elements in list\n",
        "print(list1 + list1, '\\n')    #list concatenation\n"
      ],
      "execution_count": null,
      "outputs": []
    },
    {
      "cell_type": "code",
      "metadata": {
        "id": "2foEQrhlbyH9"
      },
      "source": [
        "#Tuple - Different from list because it is immutable\n",
        "tup  = ('apples', 'grapes', 'mangoes')\n",
        "print (type(tup))\n",
        "print (tup)  \n",
        "print (tup[1:])  #Tuple slicing  \n",
        "print (tup[0:1])    \n",
        "print (tup + tup) #Tuple concatenation using + operator\n",
        "print(tup*4, '\\n') #Tuple repition\n"
      ],
      "execution_count": null,
      "outputs": []
    },
    {
      "cell_type": "code",
      "metadata": {
        "id": "96Nr-E9KcCqL"
      },
      "source": [
        "#Dictionary\n",
        "dictionary = {'cars' : ['Honda', 'Nexa', 'Suzuki'],\n",
        "              'color' : ['Red', 'Black', 'Yellow']}\n",
        "print (dict)  \n",
        "print(\"Available cars are: {0}\\nAvailable in these colors: {1}\\n\".format(dictionary['cars'], dictionary['color']))\n"
      ],
      "execution_count": null,
      "outputs": []
    },
    {
      "cell_type": "code",
      "metadata": {
        "id": "MyAOKmrRcaFN"
      },
      "source": [
        "#Boolean\n",
        "a = 1>2 #False\n",
        "print(a)\n",
        "print(type(a), '\\n')\n"
      ],
      "execution_count": null,
      "outputs": []
    },
    {
      "cell_type": "code",
      "metadata": {
        "id": "IaadFOYJcldt"
      },
      "source": [
        "#Set\n",
        "set1 = set()  #Empty set\n",
        "set2 = {'India', 32.5, 100,'OOP'}   \n",
        "print(set2)\n",
        "set2.add(5)  \n",
        "print(set2)\n",
        "set2.remove(100)  \n",
        "print(set2, '\\n')\n"
      ],
      "execution_count": null,
      "outputs": []
    },
    {
      "cell_type": "code",
      "metadata": {
        "id": "GG9pM71Pc1bE"
      },
      "source": [
        "#Strings\n",
        "str1 = 'Hello world!'\n",
        "print(\"str1[4] = \", str1[4]) #str1[4] = 'o'\n",
        "print(\"str1[6:11] = \", str1[6:11])  #str1[6:11] = 'world'\n",
        "print(str1, '\\n')\n"
      ],
      "execution_count": null,
      "outputs": []
    },
    {
      "cell_type": "code",
      "metadata": {
        "id": "p1Bf4ydfc9SK"
      },
      "source": [
        "#Implicit Type Conversion\n",
        "var_int = 123\n",
        "var_float = 4.58\n",
        "var_new = var_int + var_float\n",
        "print(\"Datatype of var_int:\",type(var_int))\n",
        "print(\"Datatype of var_float:\",type(var_float))\n",
        "#Implicit type conversion of var_int into float\n",
        "print(\"Value of var_new:\",var_new)\n",
        "print(\"Datatype of var_new:\",type(var_new), '\\n')\n"
      ],
      "execution_count": null,
      "outputs": []
    },
    {
      "cell_type": "code",
      "metadata": {
        "id": "oqvmSkp7dONA"
      },
      "source": [
        "#Explicit Type Conversion\n",
        "num_int = 800\n",
        "num_str = \"222\"\n",
        "\n",
        "print(\"Data type of num_int:\",type(num_int))    #int\n",
        "print(\"Data type of num_str before Type Casting:\",type(num_str))    #string\n",
        "\n",
        "num_str = int(num_str)\n",
        "print(\"Data type of num_str after Type Casting:\",type(num_str)) #sting forcibly converted to int\n",
        "\n",
        "num_sum = num_int + num_str\n",
        "\n",
        "print(\"Sum of num_int and num_str:\",num_sum)\n",
        "print(\"Data type of the sum:\",type(num_sum))"
      ],
      "execution_count": null,
      "outputs": []
    }
  ]
}