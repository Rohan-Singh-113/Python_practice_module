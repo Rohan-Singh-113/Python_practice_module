{
  "nbformat": 4,
  "nbformat_minor": 0,
  "metadata": {
    "colab": {
      "name": "keywords_practice.py",
      "provenance": [],
      "authorship_tag": "ABX9TyMASY5LCG6lpVycWsB7a3ky",
      "include_colab_link": true
    },
    "kernelspec": {
      "name": "python3",
      "display_name": "Python 3"
    },
    "language_info": {
      "name": "python"
    }
  },
  "cells": [
    {
      "cell_type": "markdown",
      "metadata": {
        "id": "view-in-github",
        "colab_type": "text"
      },
      "source": [
        "<a href=\"https://colab.research.google.com/github/Rohan-Singh-113/Python_practice_module/blob/main/keywords_practice_py.ipynb\" target=\"_parent\"><img src=\"https://colab.research.google.com/assets/colab-badge.svg\" alt=\"Open In Colab\"/></a>"
      ]
    },
    {
      "cell_type": "code",
      "metadata": {
        "id": "K5EsBtvmPs7Q"
      },
      "source": [
        "#Python Keywords and Identifiers\n",
        "abc = 23\n",
        "#Python Statements\n",
        "sum = (2 + 34 + \n",
        "12 +23 + 2\n",
        "+ 10)\n",
        "dictionary = {'cars' : ['Honda', 'Hyundai', 'Ford'],\n",
        "              'color' : ['Red', 'Blue', 'Green']}\n",
        "j = 1; k = 2; i = 3\n"
      ],
      "execution_count": 1,
      "outputs": []
    },
    {
      "cell_type": "code",
      "metadata": {
        "id": "hS-AzQB9QHql"
      },
      "source": [
        "#Python Indentation\n",
        "for z in range (1,100):\n",
        "    print(z/10)\n",
        "    if z%2 == 0:\n",
        "        pass\n"
      ],
      "execution_count": null,
      "outputs": []
    },
    {
      "cell_type": "code",
      "metadata": {
        "id": "SpqpEz7YQM3m"
      },
      "source": [
        "#<--Python Comments\n",
        "\n",
        "#Docstrings\n",
        "def mul(a,b):\n",
        "    '''Function to multiply two numbers'''\n",
        "    return a*b\n",
        "\n",
        "print(mul.__doc__)"
      ],
      "execution_count": null,
      "outputs": []
    }
  ]
}