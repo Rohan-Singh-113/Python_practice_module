{
  "nbformat": 4,
  "nbformat_minor": 0,
  "metadata": {
    "colab": {
      "name": "Variable.strings_practice.py",
      "provenance": [],
      "authorship_tag": "ABX9TyOUosGA/wU9gReqmzTEmKb2",
      "include_colab_link": true
    },
    "kernelspec": {
      "name": "python3",
      "display_name": "Python 3"
    },
    "language_info": {
      "name": "python"
    }
  },
  "cells": [
    {
      "cell_type": "markdown",
      "metadata": {
        "id": "view-in-github",
        "colab_type": "text"
      },
      "source": [
        "<a href=\"https://colab.research.google.com/github/Rohan-Singh-113/Python_practice_module/blob/main/Variable_strings_practice_py.ipynb\" target=\"_parent\"><img src=\"https://colab.research.google.com/assets/colab-badge.svg\" alt=\"Open In Colab\"/></a>"
      ]
    },
    {
      "cell_type": "code",
      "metadata": {
        "id": "Gwnd2_maVrXK"
      },
      "source": [
        "#Python Variable Practice\n",
        "a = 3\n",
        "b = 12\n",
        "c = a+b\n",
        "\n",
        "#Object Reference/Identity\n",
        "a = \"Hello\"\n",
        "print(type(a))\n",
        "a = b = 5\n",
        "print(id(a))\n",
        "print(id(b))\n",
        "c = 5\n",
        "d = c\n",
        "print(id(a))\n",
        "print(id(b))\n"
      ],
      "execution_count": null,
      "outputs": []
    },
    {
      "cell_type": "code",
      "metadata": {
        "id": "TkLv2h0pXQOT"
      },
      "source": [
        "#Multi-assign\n",
        "a,b,c = 5, 10, 15\n",
        "print(a,b,c)\n",
        "name1, name2, name3 = \"Raju\", \"Ram\", \"Ganesh\"\n",
        "print(name1, name2, name3)\n"
      ],
      "execution_count": null,
      "outputs": []
    },
    {
      "cell_type": "code",
      "metadata": {
        "id": "Ijy0k_yyXvl9"
      },
      "source": [
        "#Python Variable Types\n",
        "def MUL():\n",
        "    #Defining local variables\n",
        "    m = 23\n",
        "    n = 3\n",
        "    return m*n\n",
        "MUL()   #Calling function\n",
        "z = 200 #Global variable\n"
      ],
      "execution_count": null,
      "outputs": []
    },
    {
      "cell_type": "code",
      "metadata": {
        "id": "cSI7njPFYT7H"
      },
      "source": [
        "#Python String Practice\n",
        "s = 'Beautiful palace'\n",
        "\n",
        "print(s[:])\n",
        "print(s[::])\n",
        "print(s[:4]) #Printing only first 4 characters\n",
        "print(s[2:5]) #Printing characters at indices 2-4\n",
        "a = \"Hello world\"\n",
        "\n",
        "slice_object1 = slice(-1, -6, -1)   #Slicing strings. (start, stop, step)\n",
        "slice_object2 = slice(1, 6, -1)\n",
        "slice_object3 = slice(1, 6, 1)\n",
        "print(a[slice_object1], a[slice_object2], a[slice_object3])\n",
        "rev_a = a[::-1]\n",
        "print(rev_a)\n",
        "s1 = s[2:8:2]\n",
        "print(s1)\n",
        "\n",
        "py_list = ['P', 'y', 't', 'h', 'o', 'n']    #List, mutable\n",
        "py_tuple = ('P', 'y', 't', 'h', 'o', 'n')   #Tuple, immutable\n",
        "slice_object = slice(3) #Indices 0, 1, 2\n",
        "print(py_list[slice_object])\n",
        "slice_object = slice(1, 5, 2)\n",
        "print(py_tuple[slice_object]) #indices 1 and 3\n",
        "slice_object = slice(-1, -4, -1)\n",
        "print(py_list[slice_object]) # ['n', 'o', 'h']\n",
        "slice_object = slice(-1, -5, -2)\n",
        "print(py_tuple[slice_object]) # ('n', 'h')"
      ],
      "execution_count": null,
      "outputs": []
    }
  ]
}