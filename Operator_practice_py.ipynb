{
  "nbformat": 4,
  "nbformat_minor": 0,
  "metadata": {
    "colab": {
      "name": "Operator_practice.py",
      "provenance": [],
      "authorship_tag": "ABX9TyMBNhfsM+iFh7DSiVMd7KKc",
      "include_colab_link": true
    },
    "kernelspec": {
      "name": "python3",
      "display_name": "Python 3"
    },
    "language_info": {
      "name": "python"
    }
  },
  "cells": [
    {
      "cell_type": "markdown",
      "metadata": {
        "id": "view-in-github",
        "colab_type": "text"
      },
      "source": [
        "<a href=\"https://colab.research.google.com/github/Rohan-Singh-113/Python_practice_module/blob/main/Operator_practice_py.ipynb\" target=\"_parent\"><img src=\"https://colab.research.google.com/assets/colab-badge.svg\" alt=\"Open In Colab\"/></a>"
      ]
    },
    {
      "cell_type": "code",
      "metadata": {
        "id": "rZDjddvgd0_x"
      },
      "source": [
        "#Arithmetic Operators\n",
        "a = 37\n",
        "b = 4\n",
        "print(\"a + b = \", a+b)\n",
        "print(\"a - b = \", a-b)\n",
        "print(\"a * b = \", a*b)\n",
        "print(\"b / a = \", b/a)\n",
        "print(\"b // a = \", b//a)\n",
        "print(\"a ** b = \", a**b, '\\n')\n"
      ],
      "execution_count": null,
      "outputs": []
    },
    {
      "cell_type": "code",
      "metadata": {
        "id": "Yi1-jltEerct"
      },
      "source": [
        "#Comparison Operators\n",
        "a = 15\n",
        "b = 17\n",
        "print('a > b is',a>b) # Output: a > b is False\n",
        "print('a < b is',a<b) # Output: a < b is True\n",
        "print('a == b is',a==b) # Output: a == b is False\n",
        "print('a != b is',a!=b) # Output: a != b is True\n",
        "print('a >= b is',a>=b) # Output: a >= b is False\n",
        "print('a <= b is',a<=b, '\\n') # Output: a <= b is True\n"
      ],
      "execution_count": null,
      "outputs": []
    },
    {
      "cell_type": "code",
      "metadata": {
        "id": "oT84WPtAe-jD"
      },
      "source": [
        "#Logical Operators\n",
        "a = True\n",
        "b = False\n",
        "x = False\n",
        "y = True\n",
        "print('a and b is',a and b)\n",
        "print('x or y is',x or y)\n",
        "print('not x is',not x, '\\n')\n"
      ],
      "execution_count": null,
      "outputs": []
    },
    {
      "cell_type": "code",
      "metadata": {
        "id": "y6mVhqLQfcNo"
      },
      "source": [
        "#Bitwise Operators\n",
        "x=10\n",
        "y= 4\n",
        "print(x & y) # = 0 (0000 0000)      AND\n",
        "print(x ^ y) # = 14 (0000 1110)     XOR \n",
        "print(x << 2) # = 40 (0010 1000)    left shift operator\n",
        "print(x >> 2, '\\n') # = 2 (0000 0010)     right shift operator\n"
      ],
      "execution_count": null,
      "outputs": []
    },
    {
      "cell_type": "code",
      "metadata": {
        "id": "cRgxPE-Dfois"
      },
      "source": [
        "#Assignment Operators\n",
        "a=12\n",
        "a += 5; print(a)\n",
        "a %= 5; print(a)\n",
        "a **= 5; print(a)\n",
        "a //= 5; print(a, '\\n')\n"
      ],
      "execution_count": null,
      "outputs": []
    },
    {
      "cell_type": "code",
      "metadata": {
        "id": "GazENyEdfz3B"
      },
      "source": [
        "#Identity Operators\n",
        "list1 = [1, 2, 3, 4, 5, 6, 7, 8]\n",
        "list2 = [1, 2, 3, 4, 5, 6, 7, 8]\n",
        "print(list2 is list1)\n",
        "print(list1 is not list2, '\\n')\n"
      ],
      "execution_count": null,
      "outputs": []
    },
    {
      "cell_type": "code",
      "metadata": {
        "id": "Q3c5-scegA3V"
      },
      "source": [
        "#Membership Operators\n",
        "list1 = [1, 2, 3, 4, 5, 6, 7, 8]\n",
        "a = 3\n",
        "b = 6\n",
        "print(a in list1)\n",
        "print(b not in list1)"
      ],
      "execution_count": null,
      "outputs": []
    }
  ]
}