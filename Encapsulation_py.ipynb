{
  "nbformat": 4,
  "nbformat_minor": 0,
  "metadata": {
    "colab": {
      "name": "Encapsulation.py",
      "provenance": [],
      "authorship_tag": "ABX9TyNZ+mDMj0U7dNQKNuBGWFa0",
      "include_colab_link": true
    },
    "kernelspec": {
      "name": "python3",
      "display_name": "Python 3"
    },
    "language_info": {
      "name": "python"
    }
  },
  "cells": [
    {
      "cell_type": "markdown",
      "metadata": {
        "id": "view-in-github",
        "colab_type": "text"
      },
      "source": [
        "<a href=\"https://colab.research.google.com/github/Rohan-Singh-113/Python_practice_module/blob/main/Encapsulation_py.ipynb\" target=\"_parent\"><img src=\"https://colab.research.google.com/assets/colab-badge.svg\" alt=\"Open In Colab\"/></a>"
      ]
    },
    {
      "cell_type": "code",
      "metadata": {
        "id": "k6KtWqqNsAe8"
      },
      "source": [
        "class Student:\n",
        "  def __init__(self):\n",
        "    self.__age = 20          # Private attribute\n",
        "  def __printhi(self):       # Works fine and  private function\n",
        "    print(\"hi\")\n",
        "  def printhello(self):\n",
        "    print(\"hello\")\n",
        "\n",
        "rs = Student()\n",
        "rs.printhello()\n",
        "# obj1.__printhi()         # Gives an error\n",
        "# obj1.__attr              # Gives an error"
      ],
      "execution_count": null,
      "outputs": []
    },
    {
      "cell_type": "code",
      "metadata": {
        "id": "-ZWrMJhntzyb"
      },
      "source": [
        "class Person:\n",
        "  def __init__(self, name, age):\n",
        "    self.name = name\n",
        "    self.__age = age\n",
        "  @property\n",
        "  def age(self):\n",
        "    print(\"Retrieving {}'s age....\".format(self.name))\n",
        "    return self.__age\n",
        "  @age.setter\n",
        "  def age(self, value):\n",
        "    if type(value) is not int:\n",
        "      print(\"Age must be a number\")\n",
        "    if value < 0:\n",
        "      print(\"Age can't be negative\")\n",
        "    else:\n",
        "      print(\"Setting {}'s to {}....\".format(self.name, value))\n",
        "      self.age = age\n",
        "\n",
        "person = Person('Suresh', 29)\n",
        "person.age"
      ],
      "execution_count": null,
      "outputs": []
    },
    {
      "cell_type": "code",
      "metadata": {
        "id": "tEQWu8MWuLxe"
      },
      "source": [
        "class Car:\n",
        "  __maxspeed = 0\n",
        "  __name = \"\"\n",
        "  def __init__(self):\n",
        "    self.__maxspeed = 200\n",
        "    self.__name = \"Supercar\"\n",
        "  def drive(self):\n",
        "    print('driving.maxspeed ' + str(self.__maxspeed))\n",
        "\n",
        "redcar = Car()\n",
        "redcar.drive()\n",
        "mxspeed = 10\n",
        "redcar.__maxspeed = 10         # Will not change variable because its private\n",
        "redcar.drive()"
      ],
      "execution_count": null,
      "outputs": []
    },
    {
      "cell_type": "code",
      "metadata": {
        "id": "L9uUWDqWudHF"
      },
      "source": [
        "class Base:\n",
        "    def __init__(self):\n",
        "        self.a = \"OOP Course\"\n",
        "        self.__c = \"IIIT DHARWAD\"\n",
        "        print(\"Calling private member of base class: \")\n",
        "        print(self.__c)\n",
        "\n",
        "obj1 = Base()\n",
        "print(obj1.a)"
      ],
      "execution_count": null,
      "outputs": []
    },
    {
      "cell_type": "code",
      "metadata": {
        "id": "f89tYrQYuvNX"
      },
      "source": [
        "class Base1:\n",
        "  def __init__(self):\n",
        "    self.a = \"OOP Course\"\n",
        "    self.__c = \"IIIT DWD\"\n",
        "\n",
        "# Creating a derived class\n",
        "class derived(Base1):\n",
        "  def __init__(self):\n",
        "    Base1.__init__(self)\n",
        "    print(\"Calling private member of base class: \")\n",
        "    print(self.__c)\n",
        "\n",
        "hit = Base1()\n",
        "print(obj1.a)"
      ],
      "execution_count": null,
      "outputs": []
    },
    {
      "cell_type": "code",
      "metadata": {
        "id": "eBr8rCXOvBb_"
      },
      "source": [
        "class Student1:\n",
        "  count = 0\n",
        "  def __init__(self, num):\n",
        "    Student1.count = Student1.count + num\n",
        "\n",
        "s1=Student1(4)\n",
        "s2=Student1(6)\n",
        "s3=Student1(7)\n",
        "\n",
        "print(\"Number of students in this class: \", Student1.count)\n",
        "print(\"Number of students in this class: \", s2.count)"
      ],
      "execution_count": null,
      "outputs": []
    },
    {
      "cell_type": "code",
      "metadata": {
        "id": "LH0svzLsv1SE"
      },
      "source": [
        "class Student2:\n",
        "  count=0\n",
        "  def __init__(self):\n",
        "    print(\"This is non parametrized constructor with no arguments or parameters\")\n",
        "\n",
        "  def shownum(self, num):\n",
        "    print(\"Number of students in OOP class: \", num*num)\n",
        "    return num\n",
        "\n",
        "s1=Student2()\n",
        "s2=Student2()\n",
        "s3=Student2()\n",
        "\n",
        "result1 = s1.shownum(7)\n",
        "result2 = s2.shownum(6)\n",
        "\n",
        "print(\"Number of students in OOP class: \", result1, result2)"
      ],
      "execution_count": null,
      "outputs": []
    },
    {
      "cell_type": "code",
      "metadata": {
        "id": "hf7kaL-Jv_iR"
      },
      "source": [
        "class Student3:\n",
        "  count = 0\n",
        "  def __init__(self, stname, stage):\n",
        "    self.name = stname\n",
        "    self.age = stage\n",
        "    print(\"This is parametrized constructor with no arguments or parameters\")\n",
        "\n",
        "  def display(self, styear):\n",
        "    print(\"Student joined IIIT Dharwad: \", self.name, self.age, styear)\n",
        "    if styear <= 2020:\n",
        "      print(\"Student has completed the course\")\n",
        "    return\n",
        "\n",
        "s1=Student3(\"Raju\", 21)\n",
        "#s1=Student3(\"Kriti\", 23)\n",
        "#s1=Student3(\"Kunal\", 22)\n",
        "\n",
        "s1.display(2021)\n",
        "s1.display(2020)"
      ],
      "execution_count": null,
      "outputs": []
    },
    {
      "cell_type": "code",
      "metadata": {
        "colab": {
          "base_uri": "https://localhost:8080/"
        },
        "id": "FmWfTM1YwisF",
        "outputId": "84bccff7-df7d-4941-e772-416a9018dfeb"
      },
      "source": [
        "class Student4:\n",
        "    name = \"Raju\"\n",
        "    age =  19\n",
        "\n",
        "    def display(self,styear):\n",
        "       print(\"Student joined IIIT Dharwad   :\", self.name, self.age, styear)\n",
        "       if styear <= 2020 :\n",
        "         print (\"Student has completed the course\")\n",
        "       return \n",
        "s1=Student4()\n",
        "s2=Student4()\n",
        "s3=Student4()\n",
        "\n",
        "s1.display(2021)\n",
        "s2.display(2018)"
      ],
      "execution_count": 20,
      "outputs": [
        {
          "output_type": "stream",
          "name": "stdout",
          "text": [
            "Student joined IIIT Dharwad   : Raju 19 2021\n",
            "Student joined IIIT Dharwad   : Raju 19 2018\n",
            "Student has completed the course\n"
          ]
        }
      ]
    }
  ]
}