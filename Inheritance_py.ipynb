{
  "nbformat": 4,
  "nbformat_minor": 0,
  "metadata": {
    "colab": {
      "name": "Inheritance.py",
      "provenance": [],
      "authorship_tag": "ABX9TyMmTn5U1AfM8SJAZUJgpNF/",
      "include_colab_link": true
    },
    "kernelspec": {
      "name": "python3",
      "display_name": "Python 3"
    },
    "language_info": {
      "name": "python"
    }
  },
  "cells": [
    {
      "cell_type": "markdown",
      "metadata": {
        "id": "view-in-github",
        "colab_type": "text"
      },
      "source": [
        "<a href=\"https://colab.research.google.com/github/Rohan-Singh-113/Python_practice_module/blob/main/Inheritance_py.ipynb\" target=\"_parent\"><img src=\"https://colab.research.google.com/assets/colab-badge.svg\" alt=\"Open In Colab\"/></a>"
      ]
    },
    {
      "cell_type": "code",
      "metadata": {
        "id": "1alGb-3cxwEw"
      },
      "source": [
        "# Inheritance\n",
        "\n",
        "class Fruit:\n",
        "  pass\n",
        "class Grapes(Fruit):\n",
        "  pass\n",
        "\n",
        "issubclass(Grapes, Fruit)"
      ],
      "execution_count": null,
      "outputs": []
    },
    {
      "cell_type": "code",
      "metadata": {
        "id": "rHx9SEfhyw1b"
      },
      "source": [
        "# Single Inheritance\n",
        "\n",
        "class Parent:\n",
        "  def show(self):\n",
        "    print(\"Parent method\")\n",
        "\n",
        "class Child(Parent):\n",
        "  def display(self):\n",
        "    print(\"Child method\")\n",
        "\n",
        "c = Child()\n",
        "c.display()\n",
        "c.show()"
      ],
      "execution_count": null,
      "outputs": []
    },
    {
      "cell_type": "code",
      "metadata": {
        "id": "O7tQm2MlzDkG"
      },
      "source": [
        "# Multilevel Inheritance\n",
        "\n",
        "class A:\n",
        "  def methodA(self):\n",
        "    print(\"A class\")\n",
        "\n",
        "class B(A):\n",
        "  def methodB(self):\n",
        "    print(\"B class\")\n",
        "    \n",
        "class C(B):\n",
        "  def methodC(self):\n",
        "    print(\"C class\")\n",
        "\n",
        "c = C()\n",
        "c.methodA()\n",
        "c.methodB()\n",
        "c.methodC()"
      ],
      "execution_count": null,
      "outputs": []
    },
    {
      "cell_type": "code",
      "metadata": {
        "id": "fenONFACzMaG"
      },
      "source": [
        "class  Person1(object):\n",
        "  def __init__(self, name):\n",
        "    self.name = name\n",
        "\n",
        "  def getName(self):\n",
        "    return self.name\n",
        "\n",
        "  def isStudent(self):\n",
        "    return False\n",
        "\n",
        "class Student(Person1):\n",
        "  def isStudent(self):\n",
        "    return True\n",
        "\n",
        "st = Person1(\"OOP Course\")    # An object of person\n",
        "print(st.getName(), st.isStudent())\n",
        "\n",
        "st = Student(\"CSE Course\") # An Object of Student\n",
        "print(st.getName(), st.isStudent())"
      ],
      "execution_count": null,
      "outputs": []
    },
    {
      "cell_type": "code",
      "metadata": {
        "id": "ENRWGFfYzSlG"
      },
      "source": [
        "# Hierchial Inheritance\n",
        "\n",
        "class A:\n",
        "  def methodA(self):\n",
        "    print(\"A class\")\n",
        "  \n",
        "class B(A):\n",
        "  def methodB(self):\n",
        "    print(\"B class\")\n",
        "\n",
        "class C(A):\n",
        "  def methodC(self):\n",
        "    print(\"C class\")\n",
        "\n",
        "b = B()\n",
        "c = C()\n",
        "b.methodA()\n",
        "c.methodC()"
      ],
      "execution_count": null,
      "outputs": []
    },
    {
      "cell_type": "code",
      "metadata": {
        "id": "obWDPlq2zwyG"
      },
      "source": [
        "# super() method\n",
        "\n",
        "class A:\n",
        "  x = 100\n",
        "  def methodA(self):\n",
        "    print(\"A class\")\n",
        "\n",
        "class B(A):\n",
        "  def methodB(self):\n",
        "    super().methodA()\n",
        "    print(\"B class\")\n",
        "    print(super().x)\n",
        "\n",
        "b = B()\n",
        "b.methodB()"
      ],
      "execution_count": null,
      "outputs": []
    },
    {
      "cell_type": "code",
      "metadata": {
        "id": "dpzeLKobz-kQ"
      },
      "source": [
        "class Person(object):\n",
        "  def __init__(self, name, id):\n",
        "    self.name = name\n",
        "    self.id = id\n",
        "  \n",
        "  def display(self):\n",
        "    print(self.name)\n",
        "    print(self.id)\n",
        "\n",
        "class Student(Person):\n",
        "  def __init__(self, name, id, deptid, state):\n",
        "    self.deptid = deptid\n",
        "    self.state = state\n",
        "\n",
        "    Person.__init__(self, name, id)\n",
        "\n",
        "st = Student('Raju',\"20BCS001\", \"Cse102\", \"KA\")  \n",
        "st.display()"
      ],
      "execution_count": null,
      "outputs": []
    },
    {
      "cell_type": "code",
      "metadata": {
        "id": "swrqmSmT0UbI"
      },
      "source": [
        "class A(object):\n",
        "  def __init__(self, n):\n",
        "    self.name = n \n",
        "\n",
        "class B(A):\n",
        "  def __init__(self, roll, n):\n",
        "    self.roll = roll\n",
        "\n",
        "    A.__init__(self, n)\n",
        "\n",
        "course = B(\"OOP Course\", 140)\n",
        "print(course.name)\n",
        "print(course.roll)"
      ],
      "execution_count": null,
      "outputs": []
    },
    {
      "cell_type": "code",
      "metadata": {
        "id": "5srnwbjo0lIa"
      },
      "source": [
        "class Polygon:\n",
        "  def __init__(self, no_of_sides):\n",
        "    self.n = no_of_sides\n",
        "    self.sides = [0 for i in range(no_of_sides)]\n",
        "\n",
        "  def inputSides(self):\n",
        "    self.sides = [float(input(\"Enter side \" + str(i+1) + \" : \")) for i in range(self.n)]\n",
        "  \n",
        "  def dispSides(self):\n",
        "    for i in range(self.n):\n",
        "      print(\"Side \", i+1, \" is \", self.sides[i])\n",
        "\n",
        "class Triangle(Polygon):\n",
        "  def __init__(self):\n",
        "    Polygon.__init__(self, 3)\n",
        "  \n",
        "  def findArea(self):\n",
        "    a, b, c = self.sides\n",
        "    s = (a + b + c)/2\n",
        "    area = (s * (s-a) * (s-b) * (s-c)) ** 0.5\n",
        "    print(\"The area of the triangle is %0.2f\" %area)\n",
        "\n",
        "t = Triangle()\n",
        "t.inputSides()\n",
        "t.dispSides()\n",
        "t.findArea()"
      ],
      "execution_count": null,
      "outputs": []
    }
  ]
}